{
 "cells": [
  {
   "cell_type": "code",
   "execution_count": 31,
   "metadata": {},
   "outputs": [],
   "source": [
    "import numpy as np\n",
    "import pandas as pd\n",
    "import os\n",
    "from pydantic import BaseModel\n",
    "\n",
    "from sklearn.linear_model import LogisticRegression\n",
    "from sklearn.ensemble import RandomForestClassifier\n",
    "from sklearn.feature_selection import SelectFromModel\n",
    "from sklearn.feature_selection import SequentialFeatureSelector\n",
    "from sklearn.discriminant_analysis import QuadraticDiscriminantAnalysis as QDA\n",
    "\n",
    "from src.settings import DATA_DIR\n",
    "from src.experiment_utils import perform_experiments, find_best_experiments"
   ]
  },
  {
   "cell_type": "code",
   "execution_count": 2,
   "metadata": {},
   "outputs": [],
   "source": [
    "# Read the text file into a dataframe\n",
    "X = pd.read_csv(os.path.join(DATA_DIR, 'x_train.txt'), sep=' ', header=None).to_numpy()\n",
    "y = pd.read_csv(os.path.join(DATA_DIR, 'y_train.txt'), header=None).to_numpy().T[0]\n",
    "X_test = pd.read_csv(os.path.join(DATA_DIR, 'x_test.txt'), sep=' ', header=None).to_numpy()"
   ]
  },
  {
   "cell_type": "code",
   "execution_count": 3,
   "metadata": {},
   "outputs": [],
   "source": [
    "experiment_dict = {\n",
    "    \"exp_1\": {\n",
    "        \"model\": RandomForestClassifier,\n",
    "        \"model_config\": {},\n",
    "        \"feature_selector\": SelectFromModel,\n",
    "        \"feature_selector_config\": {\n",
    "            \"estimator\": LogisticRegression(max_iter=1000)\n",
    "        }\n",
    "    },\n",
    "    \"exp_2\": {\n",
    "        \"model\": QDA,\n",
    "        \"model_config\": {},\n",
    "        \"feature_selector\": SequentialFeatureSelector,\n",
    "        \"feature_selector_config\": {\n",
    "            \"estimator\": LogisticRegression(max_iter=1000),\n",
    "            \"n_features_to_select\": \"auto\",\n",
    "            \"tol\": 0.01,\n",
    "            \"direction\": \"forward\"\n",
    "        }\n",
    "    }\n",
    "}"
   ]
  },
  {
   "cell_type": "code",
   "execution_count": null,
   "metadata": {},
   "outputs": [],
   "source": [
    "perform_experiments(X, y, experiment_dict)"
   ]
  },
  {
   "cell_type": "code",
   "execution_count": null,
   "metadata": {},
   "outputs": [],
   "source": [
    "best_experiments = find_best_experiments()\n",
    "best_experiment = best_experiments[1]\n",
    "\n",
    "model = best_experiment[\"model\"](**best_experiment[\"model_config\"])\n",
    "feature_selector = best_experiment[\"feature_selector\"](\n",
    "    **best_experiment[\"feature_selector_config\"]\n",
    ")\n",
    "\n",
    "feature_selector.fit(X, y)\n",
    "X_train_reduced = feature_selector.transform(X)\n",
    "model.fit(X_train_reduced, y)\n",
    "\n",
    "X_test_reduced = feature_selector.transform(X_test)"
   ]
  },
  {
   "cell_type": "code",
   "execution_count": null,
   "metadata": {},
   "outputs": [],
   "source": [
    "proba_preds = model.predict_proba(X_test_reduced)\n",
    "np.argsort(proba_preds[:, 1])[-1000:]"
   ]
  }
 ],
 "metadata": {
  "kernelspec": {
   "display_name": "Python 3",
   "language": "python",
   "name": "python3"
  },
  "language_info": {
   "codemirror_mode": {
    "name": "ipython",
    "version": 3
   },
   "file_extension": ".py",
   "mimetype": "text/x-python",
   "name": "python",
   "nbconvert_exporter": "python",
   "pygments_lexer": "ipython3",
   "version": "3.10.14"
  }
 },
 "nbformat": 4,
 "nbformat_minor": 2
}
