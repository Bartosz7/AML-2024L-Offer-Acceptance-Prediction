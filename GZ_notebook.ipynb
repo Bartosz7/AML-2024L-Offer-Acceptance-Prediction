{
 "cells": [
  {
   "cell_type": "code",
   "execution_count": 31,
   "metadata": {},
   "outputs": [],
   "source": [
    "import numpy as np\n",
    "import pandas as pd\n",
    "import os\n",
    "\n",
    "from sklearn.feature_selection import mutual_info_classif\n",
    "from sklearn.linear_model import LogisticRegression\n",
    "from sklearn.ensemble import RandomForestClassifier, GradientBoostingClassifier\n",
    "from sklearn.feature_selection import SelectFromModel\n",
    "from sklearn.naive_bayes import GaussianNB, MultinomialNB\n",
    "from sklearn.feature_selection import SequentialFeatureSelector\n",
    "from sklearn.discriminant_analysis import QuadraticDiscriminantAnalysis as QDA\n",
    "from sklearn.svm import SVC\n",
    "from sklearn.discriminant_analysis import LinearDiscriminantAnalysis\n",
    "from src.feature_selector import BaseFeatureSelector\n",
    "from src.settings import DATA_DIR\n",
    "from src.experiment_utils import perform_experiments, find_best_experiments\n",
    "from src.experiment import Experiment\n",
    "from src.custom_feature_selectors.boruta import Boruta\n",
    "from src.custom_feature_selectors.after_boruta_selectors import PermutationImportance, Impurity\n",
    "from sklearn.inspection import permutation_importance\n",
    "from sklearn.feature_selection import SelectKBest\n",
    "from sklearn.feature_selection import chi2\n",
    "from skfeature.function.similarity_based.fisher_score import fisher_score"
   ]
  },
  {
   "cell_type": "code",
   "execution_count": 2,
   "metadata": {},
   "outputs": [],
   "source": [
    "# Read the text file into a dataframe\n",
    "X = pd.read_csv(os.path.join(DATA_DIR, 'x_train.txt'), sep=' ', header=None).to_numpy()\n",
    "y = pd.read_csv(os.path.join(DATA_DIR, 'y_train.txt'), header=None).to_numpy().T[0]\n",
    "X_test = pd.read_csv(os.path.join(DATA_DIR, 'x_test.txt'), sep=' ', header=None).to_numpy()"
   ]
  },
  {
   "cell_type": "code",
   "execution_count": 3,
   "metadata": {},
   "outputs": [
    {
     "name": "stdout",
     "output_type": "stream",
     "text": [
      "Iteration: \t1 / 10\n",
      "Confirmed: \t0\n",
      "Tentative: \t496\n",
      "Rejected: \t0\n",
      "Iteration: \t2 / 10\n",
      "Confirmed: \t0\n",
      "Tentative: \t496\n",
      "Rejected: \t0\n",
      "Iteration: \t3 / 10\n",
      "Confirmed: \t0\n",
      "Tentative: \t496\n",
      "Rejected: \t0\n",
      "Iteration: \t4 / 10\n",
      "Confirmed: \t0\n",
      "Tentative: \t496\n",
      "Rejected: \t0\n",
      "Iteration: \t5 / 10\n",
      "Confirmed: \t0\n",
      "Tentative: \t496\n",
      "Rejected: \t0\n",
      "Iteration: \t6 / 10\n",
      "Confirmed: \t0\n",
      "Tentative: \t496\n",
      "Rejected: \t0\n",
      "Iteration: \t7 / 10\n",
      "Confirmed: \t0\n",
      "Tentative: \t496\n",
      "Rejected: \t0\n",
      "Iteration: \t8 / 10\n",
      "Confirmed: \t0\n",
      "Tentative: \t15\n",
      "Rejected: \t481\n",
      "Iteration: \t9 / 10\n",
      "Confirmed: \t12\n",
      "Tentative: \t3\n",
      "Rejected: \t481\n",
      "\n",
      "\n",
      "BorutaPy finished running.\n",
      "\n",
      "Iteration: \t10 / 10\n",
      "Confirmed: \t12\n",
      "Tentative: \t0\n",
      "Rejected: \t481\n"
     ]
    },
    {
     "data": {
      "text/html": [
       "<style>#sk-container-id-1 {color: black;}#sk-container-id-1 pre{padding: 0;}#sk-container-id-1 div.sk-toggleable {background-color: white;}#sk-container-id-1 label.sk-toggleable__label {cursor: pointer;display: block;width: 100%;margin-bottom: 0;padding: 0.3em;box-sizing: border-box;text-align: center;}#sk-container-id-1 label.sk-toggleable__label-arrow:before {content: \"▸\";float: left;margin-right: 0.25em;color: #696969;}#sk-container-id-1 label.sk-toggleable__label-arrow:hover:before {color: black;}#sk-container-id-1 div.sk-estimator:hover label.sk-toggleable__label-arrow:before {color: black;}#sk-container-id-1 div.sk-toggleable__content {max-height: 0;max-width: 0;overflow: hidden;text-align: left;background-color: #f0f8ff;}#sk-container-id-1 div.sk-toggleable__content pre {margin: 0.2em;color: black;border-radius: 0.25em;background-color: #f0f8ff;}#sk-container-id-1 input.sk-toggleable__control:checked~div.sk-toggleable__content {max-height: 200px;max-width: 100%;overflow: auto;}#sk-container-id-1 input.sk-toggleable__control:checked~label.sk-toggleable__label-arrow:before {content: \"▾\";}#sk-container-id-1 div.sk-estimator input.sk-toggleable__control:checked~label.sk-toggleable__label {background-color: #d4ebff;}#sk-container-id-1 div.sk-label input.sk-toggleable__control:checked~label.sk-toggleable__label {background-color: #d4ebff;}#sk-container-id-1 input.sk-hidden--visually {border: 0;clip: rect(1px 1px 1px 1px);clip: rect(1px, 1px, 1px, 1px);height: 1px;margin: -1px;overflow: hidden;padding: 0;position: absolute;width: 1px;}#sk-container-id-1 div.sk-estimator {font-family: monospace;background-color: #f0f8ff;border: 1px dotted black;border-radius: 0.25em;box-sizing: border-box;margin-bottom: 0.5em;}#sk-container-id-1 div.sk-estimator:hover {background-color: #d4ebff;}#sk-container-id-1 div.sk-parallel-item::after {content: \"\";width: 100%;border-bottom: 1px solid gray;flex-grow: 1;}#sk-container-id-1 div.sk-label:hover label.sk-toggleable__label {background-color: #d4ebff;}#sk-container-id-1 div.sk-serial::before {content: \"\";position: absolute;border-left: 1px solid gray;box-sizing: border-box;top: 0;bottom: 0;left: 50%;z-index: 0;}#sk-container-id-1 div.sk-serial {display: flex;flex-direction: column;align-items: center;background-color: white;padding-right: 0.2em;padding-left: 0.2em;position: relative;}#sk-container-id-1 div.sk-item {position: relative;z-index: 1;}#sk-container-id-1 div.sk-parallel {display: flex;align-items: stretch;justify-content: center;background-color: white;position: relative;}#sk-container-id-1 div.sk-item::before, #sk-container-id-1 div.sk-parallel-item::before {content: \"\";position: absolute;border-left: 1px solid gray;box-sizing: border-box;top: 0;bottom: 0;left: 50%;z-index: -1;}#sk-container-id-1 div.sk-parallel-item {display: flex;flex-direction: column;z-index: 1;position: relative;background-color: white;}#sk-container-id-1 div.sk-parallel-item:first-child::after {align-self: flex-end;width: 50%;}#sk-container-id-1 div.sk-parallel-item:last-child::after {align-self: flex-start;width: 50%;}#sk-container-id-1 div.sk-parallel-item:only-child::after {width: 0;}#sk-container-id-1 div.sk-dashed-wrapped {border: 1px dashed gray;margin: 0 0.4em 0.5em 0.4em;box-sizing: border-box;padding-bottom: 0.4em;background-color: white;}#sk-container-id-1 div.sk-label label {font-family: monospace;font-weight: bold;display: inline-block;line-height: 1.2em;}#sk-container-id-1 div.sk-label-container {text-align: center;}#sk-container-id-1 div.sk-container {/* jupyter's `normalize.less` sets `[hidden] { display: none; }` but bootstrap.min.css set `[hidden] { display: none !important; }` so we also need the `!important` here to be able to override the default hidden behavior on the sphinx rendered scikit-learn.org. See: https://github.com/scikit-learn/scikit-learn/issues/21755 */display: inline-block !important;position: relative;}#sk-container-id-1 div.sk-text-repr-fallback {display: none;}</style><div id=\"sk-container-id-1\" class=\"sk-top-container\"><div class=\"sk-text-repr-fallback\"><pre>BorutaPy(estimator=RandomForestClassifier(class_weight=&#x27;balanced&#x27;, max_depth=5,\n",
       "                                          n_estimators=109, n_jobs=-1,\n",
       "                                          random_state=RandomState(MT19937) at 0x1B0B8777940),\n",
       "         max_iter=10, n_estimators=&#x27;auto&#x27;,\n",
       "         random_state=RandomState(MT19937) at 0x1B0B8777940, verbose=2)</pre><b>In a Jupyter environment, please rerun this cell to show the HTML representation or trust the notebook. <br />On GitHub, the HTML representation is unable to render, please try loading this page with nbviewer.org.</b></div><div class=\"sk-container\" hidden><div class=\"sk-item sk-dashed-wrapped\"><div class=\"sk-label-container\"><div class=\"sk-label sk-toggleable\"><input class=\"sk-toggleable__control sk-hidden--visually\" id=\"sk-estimator-id-1\" type=\"checkbox\" ><label for=\"sk-estimator-id-1\" class=\"sk-toggleable__label sk-toggleable__label-arrow\">BorutaPy</label><div class=\"sk-toggleable__content\"><pre>BorutaPy(estimator=RandomForestClassifier(class_weight=&#x27;balanced&#x27;, max_depth=5,\n",
       "                                          n_estimators=109, n_jobs=-1,\n",
       "                                          random_state=RandomState(MT19937) at 0x1B0B8777940),\n",
       "         max_iter=10, n_estimators=&#x27;auto&#x27;,\n",
       "         random_state=RandomState(MT19937) at 0x1B0B8777940, verbose=2)</pre></div></div></div><div class=\"sk-parallel\"><div class=\"sk-parallel-item\"><div class=\"sk-item\"><div class=\"sk-label-container\"><div class=\"sk-label sk-toggleable\"><input class=\"sk-toggleable__control sk-hidden--visually\" id=\"sk-estimator-id-2\" type=\"checkbox\" ><label for=\"sk-estimator-id-2\" class=\"sk-toggleable__label sk-toggleable__label-arrow\">estimator: RandomForestClassifier</label><div class=\"sk-toggleable__content\"><pre>RandomForestClassifier(class_weight=&#x27;balanced&#x27;, max_depth=5, n_estimators=109,\n",
       "                       n_jobs=-1,\n",
       "                       random_state=RandomState(MT19937) at 0x1B0B8777940)</pre></div></div></div><div class=\"sk-serial\"><div class=\"sk-item\"><div class=\"sk-estimator sk-toggleable\"><input class=\"sk-toggleable__control sk-hidden--visually\" id=\"sk-estimator-id-3\" type=\"checkbox\" ><label for=\"sk-estimator-id-3\" class=\"sk-toggleable__label sk-toggleable__label-arrow\">RandomForestClassifier</label><div class=\"sk-toggleable__content\"><pre>RandomForestClassifier(class_weight=&#x27;balanced&#x27;, max_depth=5, n_estimators=109,\n",
       "                       n_jobs=-1,\n",
       "                       random_state=RandomState(MT19937) at 0x1B0B8777940)</pre></div></div></div></div></div></div></div></div></div></div>"
      ],
      "text/plain": [
       "BorutaPy(estimator=RandomForestClassifier(class_weight='balanced', max_depth=5,\n",
       "                                          n_estimators=109, n_jobs=-1,\n",
       "                                          random_state=RandomState(MT19937) at 0x1B0B8777940),\n",
       "         max_iter=10, n_estimators='auto',\n",
       "         random_state=RandomState(MT19937) at 0x1B0B8777940, verbose=2)"
      ]
     },
     "execution_count": 3,
     "metadata": {},
     "output_type": "execute_result"
    }
   ],
   "source": [
    "from sklearn.model_selection import train_test_split\n",
    "from src.train import calculate_score\n",
    "from boruta import BorutaPy\n",
    "\n",
    "\n",
    "df = pd.DataFrame(X)\n",
    "corr_matrix = df.corr().abs()\n",
    "upper = corr_matrix.where(np.triu(np.ones(corr_matrix.shape), k=1).astype(bool))\n",
    "to_drop = [column for column in upper.columns if any(upper[column] > 0.9)]\n",
    "df.drop(to_drop, axis=1, inplace=True)\n",
    "\n",
    "X_reduced = df.to_numpy()\n",
    "\n",
    "model = RandomForestClassifier(n_jobs=-1, class_weight='balanced', max_depth=5)\n",
    "\n",
    "feat_selector = BorutaPy(\n",
    "    verbose=2,\n",
    "    estimator=model,\n",
    "    n_estimators='auto',\n",
    "    max_iter=10\n",
    ")\n",
    "\n",
    "feat_selector.fit(X_reduced, y)"
   ]
  },
  {
   "cell_type": "code",
   "execution_count": 4,
   "metadata": {},
   "outputs": [],
   "source": [
    "X_reduced = feat_selector.transform(X_reduced)\n",
    "chosen_columns = []\n",
    "for i in range(X.shape[1]):\n",
    "    for j in range(X_reduced.shape[1]):\n",
    "        if np.equal(X[:, i], X_reduced[:, j]).all():\n",
    "            chosen_columns.append(i)\n",
    "            break"
   ]
  },
  {
   "cell_type": "code",
   "execution_count": 6,
   "metadata": {},
   "outputs": [
    {
     "data": {
      "text/plain": [
       "[0, 1, 2, 3, 4, 5, 100, 101, 102, 103, 104, 105]"
      ]
     },
     "execution_count": 6,
     "metadata": {},
     "output_type": "execute_result"
    }
   ],
   "source": [
    "chosen_columns"
   ]
  },
  {
   "cell_type": "code",
   "execution_count": null,
   "metadata": {},
   "outputs": [],
   "source": [
    "def discretize_dataset(X, bins=10):\n",
    "    X_discr = np.copy(X)\n",
    "    for i in range(X.shape[1]):\n",
    "        X_discr[:, i] = pd.cut(X[:, i], bins=bins, labels=False)\n",
    "\n",
    "    return X_discr"
   ]
  },
  {
   "cell_type": "code",
   "execution_count": 9,
   "metadata": {},
   "outputs": [],
   "source": [
    "class ChiSquared(BaseFeatureSelector):\n",
    "\n",
    "    def __init__(self, n_feats=3) -> None:\n",
    "        super().__init__()\n",
    "        self.n_feats = n_feats\n",
    "        self.chi_chosen = None\n",
    "\n",
    "    def fit(self, X: np.ndarray, y: np.ndarray) -> None:\n",
    "        X_cat = discretize_dataset(X)\n",
    "        chi2_features = SelectKBest(chi2, k=3)\n",
    "        X_best = chi2_features.fit_transform(X_cat, y)\n",
    "\n",
    "        self.chi_chosen = []\n",
    "        for i in range(X_cat.shape[1]):\n",
    "            for j in range(X_best.shape[1]):\n",
    "                if np.equal(X_cat[:, i], X_best[:, j]).all():\n",
    "                    self.chi_chosen.append(i)\n",
    "                    break\n",
    "\n",
    "    def get_support(self, indices: bool = True) -> np.ndarray:\n",
    "        return self.chi_chosen"
   ]
  },
  {
   "cell_type": "code",
   "execution_count": 94,
   "metadata": {},
   "outputs": [],
   "source": [
    "class Fisher(BaseFeatureSelector):\n",
    "\n",
    "    def __init__(self, n_feats=3) -> None:\n",
    "        super().__init__()\n",
    "        self.n_feats = n_feats\n",
    "        self.fisher_chosen = None\n",
    "\n",
    "    def fit(self, X: np.ndarray, y: np.ndarray) -> None:\n",
    "        self.fisher_results = np.argsort(-fisher_score(X, y))\n",
    "\n",
    "    def get_support(self, indices: bool = True) -> np.ndarray:\n",
    "        return self.fisher_results[:self.n_feats]"
   ]
  },
  {
   "cell_type": "code",
   "execution_count": 39,
   "metadata": {},
   "outputs": [],
   "source": [
    "from sklearn.neural_network import MLPClassifier"
   ]
  },
  {
   "cell_type": "code",
   "execution_count": 42,
   "metadata": {},
   "outputs": [],
   "source": [
    "experiment_config = [\n",
    "    # Experiment(\n",
    "    #     classifier=RandomForestClassifier,\n",
    "    #     classifier_config={\n",
    "    #         \"max_depth\": 3\n",
    "    #     },\n",
    "    #     feature_selector=SelectFromModel,\n",
    "    #     feature_selector_config={\n",
    "    #         \"estimator\": LogisticRegression(max_iter=1000)\n",
    "    #     }\n",
    "    # ),\n",
    "    Experiment(\n",
    "        classifier=MLPClassifier,\n",
    "        classifier_config={\n",
    "            \"learning_rate_init\": 0.01,\n",
    "        },\n",
    "        feature_selector=None,\n",
    "        # feature_selector_config={\n",
    "        #     \"n_feats\": 10,\n",
    "        #     \"max_depth\": 5\n",
    "        # }\n",
    "    ),\n",
    "    # Experiment(\n",
    "    #     classifier=RandomForestClassifier,\n",
    "    #     classifier_config={\n",
    "    #         \"max_depth\": 5,\n",
    "    #         \"n_estimators\": 100\n",
    "    #     },\n",
    "    #     feature_selector=PermutationImportance,\n",
    "    #     feature_selector_config={\n",
    "    #         \"n_feats\": 2,\n",
    "    #     }\n",
    "    # ),\n",
    "    # Experiment(\n",
    "    #     classifier=QDA,\n",
    "    #     feature_selector=Boruta,\n",
    "    #     feature_selector_config={\n",
    "    #         \"additional_feat_selector\": SequentialFeatureSelector(\n",
    "    #             estimator=RandomForestClassifier(max_depth=5),\n",
    "    #             n_features_to_select=\"auto\",\n",
    "    #             tol= 0.001,\n",
    "    #             direction=\"forward\"\n",
    "    #         ),\n",
    "    #         \"model_n_estimators\": 100,\n",
    "    #         \"model_max_depth\": 5,\n",
    "    #         \"boruta_n_estimators\": \"auto\",\n",
    "    #         \"boruta_max_iter\": 10,\n",
    "    #     }\n",
    "    # ),\n",
    "]"
   ]
  },
  {
   "cell_type": "code",
   "execution_count": 7,
   "metadata": {},
   "outputs": [
    {
     "data": {
      "text/plain": [
       "array([100, 102, 103])"
      ]
     },
     "execution_count": 7,
     "metadata": {},
     "output_type": "execute_result"
    }
   ],
   "source": [
    "# indices for best none: \n",
    "np.array(chosen_columns)[[6, 8, 9]]"
   ]
  },
  {
   "cell_type": "code",
   "execution_count": 43,
   "metadata": {},
   "outputs": [
    {
     "name": "stdout",
     "output_type": "stream",
     "text": [
      "Experiment exp_mlpc_non_4d22d2 in progress...\n",
      "Using 3 features, we properly classified 146/200 clients.\n",
      "Using 3 features, we properly classified 146/200 clients.\n",
      "Using 3 features, we properly classified 147/200 clients.\n",
      "Using 3 features, we properly classified 151/200 clients.\n",
      "Using 3 features, we properly classified 149/200 clients.\n"
     ]
    }
   ],
   "source": [
    "scores, indices = perform_experiments(X_reduced[:, [6, 8, 9]], y, experiment_config)"
   ]
  },
  {
   "cell_type": "code",
   "execution_count": 18,
   "metadata": {},
   "outputs": [
    {
     "data": {
      "text/plain": [
       "{'exp_gnb_pi_13df8e': [array([4, 5, 1], dtype=int64),\n",
       "  array([0, 5, 1], dtype=int64),\n",
       "  array([0, 1, 4], dtype=int64),\n",
       "  array([5, 4, 3], dtype=int64),\n",
       "  array([0, 5, 1], dtype=int64)]}"
      ]
     },
     "execution_count": 18,
     "metadata": {},
     "output_type": "execute_result"
    }
   ],
   "source": [
    "indices"
   ]
  },
  {
   "cell_type": "code",
   "execution_count": 237,
   "metadata": {},
   "outputs": [],
   "source": [
    "best_experiments = find_best_experiments()\n",
    "best_experiment = best_experiments[1]\n",
    "\n",
    "model = best_experiment.classifier(**best_experiment.classifier_config)\n",
    "feature_selector = best_experiment.feature_selector(\n",
    "    **best_experiment.feature_selector_config\n",
    ")\n",
    "\n",
    "# feature_selector.fit(X, y)\n",
    "# X_train_reduced = feature_selector.transform(X)\n",
    "# model.fit(X_train_reduced, y)"
   ]
  },
  {
   "cell_type": "code",
   "execution_count": 25,
   "metadata": {},
   "outputs": [],
   "source": [
    "feature_selector.fit(X_reduced, y)\n",
    "X_final = feature_selector.transform(X_reduced)"
   ]
  },
  {
   "cell_type": "code",
   "execution_count": 252,
   "metadata": {},
   "outputs": [
    {
     "name": "stdout",
     "output_type": "stream",
     "text": [
      "0.699\n",
      "Using 6 features, we properly classified 162/200 clients.\n",
      "6900.0\n"
     ]
    }
   ],
   "source": [
    "from sklearn.metrics import accuracy_score\n",
    "import xgboost as xgb\n",
    "\n",
    "X_train, X_test, y_train, y_test = train_test_split(X_reduced[:, 6:], y, test_size=0.2)\n",
    "# print(calculate_score(model, X_train, X_test, y_train, y_test))\n",
    "# model = xgb.XGBClassifier(tree_method=\"hist\")\n",
    "model.fit(X_train, y_train)\n",
    "preds_proba = model.predict_proba(X_test)\n",
    "preds = model.predict(X_test)\n",
    "print(accuracy_score(y_test, preds))\n",
    "print(calculate_score(model, X_train, X_test, y_train, y_test))"
   ]
  },
  {
   "cell_type": "code",
   "execution_count": 135,
   "metadata": {},
   "outputs": [
    {
     "data": {
      "text/plain": [
       "158"
      ]
     },
     "execution_count": 135,
     "metadata": {},
     "output_type": "execute_result"
    }
   ],
   "source": [
    "np.sum(y_test[np.argsort(-preds_proba[:, 1])[:200]])"
   ]
  },
  {
   "cell_type": "code",
   "execution_count": null,
   "metadata": {},
   "outputs": [],
   "source": [
    "X_test_reduced = feature_selector.transform(X_test)\n",
    "proba_preds = model.predict_proba(X_test_reduced)\n",
    "np.argsort(proba_preds[:, 1])[-1000:]"
   ]
  }
 ],
 "metadata": {
  "kernelspec": {
   "display_name": "Python 3",
   "language": "python",
   "name": "python3"
  },
  "language_info": {
   "codemirror_mode": {
    "name": "ipython",
    "version": 3
   },
   "file_extension": ".py",
   "mimetype": "text/x-python",
   "name": "python",
   "nbconvert_exporter": "python",
   "pygments_lexer": "ipython3",
   "version": "3.10.14"
  }
 },
 "nbformat": 4,
 "nbformat_minor": 2
}
