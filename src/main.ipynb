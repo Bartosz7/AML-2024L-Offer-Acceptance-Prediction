{
 "cells": [
  {
   "cell_type": "code",
   "execution_count": 1,
   "metadata": {},
   "outputs": [],
   "source": [
    "import numpy as np\n",
    "import pandas as pd"
   ]
  },
  {
   "cell_type": "code",
   "execution_count": 4,
   "metadata": {},
   "outputs": [
    {
     "name": "stdout",
     "output_type": "stream",
     "text": [
      "(5000, 500) (5000, 1)\n",
      "(5000, 500)\n"
     ]
    }
   ],
   "source": [
    "import os\n",
    "from settings import DATA_DIR\n",
    "\n",
    "# Read the text file into a dataframe\n",
    "X_train = pd.read_csv(os.path.join(DATA_DIR, 'x_train.txt'), sep=' ', header=None)\n",
    "X_test = pd.read_csv(os.path.join(DATA_DIR, 'x_test.txt'), sep=' ', header=None)\n",
    "y_train = pd.read_csv(os.path.join(DATA_DIR, 'y_train.txt'), header=None)\n",
    "\n",
    "# Read the shape of the data\n",
    "print(X_train.shape, y_train.shape)\n",
    "print(X_test.shape)"
   ]
  },
  {
   "cell_type": "markdown",
   "metadata": {},
   "source": [
    "# Notes\n",
    "- deadline: 3rd June\n",
    "- at least 5 strategies (feature selection/model) must be implemented\n",
    "- CV necessary\n",
    "- feature selection methods\n",
    "- finding and finetuning standalone models\n",
    "- ensemble methods\n",
    "- self-learning "
   ]
  },
  {
   "cell_type": "markdown",
   "metadata": {},
   "source": []
  }
 ],
 "metadata": {
  "kernelspec": {
   "display_name": "aml_env",
   "language": "python",
   "name": "python3"
  },
  "language_info": {
   "codemirror_mode": {
    "name": "ipython",
    "version": 3
   },
   "file_extension": ".py",
   "mimetype": "text/x-python",
   "name": "python",
   "nbconvert_exporter": "python",
   "pygments_lexer": "ipython3",
   "version": "3.12.2"
  }
 },
 "nbformat": 4,
 "nbformat_minor": 2
}
